{
 "cells": [
  {
   "cell_type": "code",
   "execution_count": 5,
   "id": "af3fb0a5-a4f7-418c-94eb-5a4c6008824b",
   "metadata": {},
   "outputs": [
    {
     "name": "stdout",
     "output_type": "stream",
     "text": [
      "   Tid Refund Martial Status Taxable Income Cheat\n",
      "0    1    Yes         single           125k    no\n",
      "1    2     No        married           100k    no\n",
      "2    3     No         single            70k    no\n",
      "3    4    Yes        married           120k    no\n",
      "4    5     No       divorced            95k   yes\n",
      "5    6     No        married            60k    no\n",
      "6    7    Yes       divorced           220k    no\n",
      "7    8     No         single            85k   yes\n",
      "8    9     No        married            75k    no\n",
      "9   10     No         single            90k   yes\n"
     ]
    }
   ],
   "source": [
    "import pandas as pd\n",
    "data={'Tid':[1,2,3,4,5,6,7,8,9,10],'Refund':['Yes','No','No','Yes','No','No','Yes','No','No','No'],'Martial Status':['single','married','single','married','divorced','married','divorced','single','married','single'],'Taxable Income':['125k','100k','70k','120k','95k','60k','220k','85k','75k','90k'],'Cheat':['no','no','no','no','yes','no','no','yes','no','yes']}\n",
    "df= pd.DataFrame(data)\n",
    "print(df)"
   ]
  },
  {
   "cell_type": "code",
   "execution_count": 7,
   "id": "d1906e9c-e83c-411c-a419-a54e9f9d2924",
   "metadata": {},
   "outputs": [
    {
     "name": "stdout",
     "output_type": "stream",
     "text": [
      "Tid                    1\n",
      "Refund               Yes\n",
      "Martial Status    single\n",
      "Taxable Income      125k\n",
      "Cheat                 no\n",
      "Name: 0, dtype: object\n",
      "Tid                      5\n",
      "Refund                  No\n",
      "Martial Status    divorced\n",
      "Taxable Income         95k\n",
      "Cheat                  yes\n",
      "Name: 4, dtype: object\n",
      "Tid                    8\n",
      "Refund                No\n",
      "Martial Status    single\n",
      "Taxable Income       85k\n",
      "Cheat                yes\n",
      "Name: 7, dtype: object\n",
      "Tid                     9\n",
      "Refund                 No\n",
      "Martial Status    married\n",
      "Taxable Income        75k\n",
      "Cheat                  no\n",
      "Name: 8, dtype: object\n"
     ]
    }
   ],
   "source": [
    "print(df.iloc[0])\n",
    "print(df.iloc[4])\n",
    "print(df.iloc[7])\n",
    "print(df.iloc[8])"
   ]
  },
  {
   "cell_type": "code",
   "execution_count": 9,
   "id": "b5acdb3a-5cff-409a-b2f5-e874a9592537",
   "metadata": {},
   "outputs": [
    {
     "name": "stdout",
     "output_type": "stream",
     "text": [
      "   Tid Refund Martial Status Taxable Income Cheat\n",
      "3    4    Yes        married           120k    no\n",
      "4    5     No       divorced            95k   yes\n",
      "5    6     No        married            60k    no\n",
      "6    7    Yes       divorced           220k    no\n",
      "  Martial Status Taxable Income\n",
      "4       divorced            95k\n",
      "5        married            60k\n",
      "6       divorced           220k\n",
      "7         single            85k\n",
      "  Refund Martial Status Taxable Income\n",
      "0    Yes         single           125k\n",
      "1     No        married           100k\n",
      "2     No         single            70k\n",
      "3    Yes        married           120k\n",
      "4     No       divorced            95k\n",
      "5     No        married            60k\n",
      "6    Yes       divorced           220k\n",
      "7     No         single            85k\n",
      "8     No        married            75k\n",
      "9     No         single            90k\n"
     ]
    }
   ],
   "source": [
    "print(df.iloc[3:7])\n",
    "print(df.iloc[4:8,2:4])\n",
    "print(df.iloc[:,1:4])"
   ]
  },
  {
   "cell_type": "code",
   "execution_count": null,
   "id": "2d7f5cb0-31e8-41de-bbf7-021dd9f4d380",
   "metadata": {},
   "outputs": [],
   "source": []
  }
 ],
 "metadata": {
  "kernelspec": {
   "display_name": "Python [conda env:base] *",
   "language": "python",
   "name": "conda-base-py"
  },
  "language_info": {
   "codemirror_mode": {
    "name": "ipython",
    "version": 3
   },
   "file_extension": ".py",
   "mimetype": "text/x-python",
   "name": "python",
   "nbconvert_exporter": "python",
   "pygments_lexer": "ipython3",
   "version": "3.12.7"
  }
 },
 "nbformat": 4,
 "nbformat_minor": 5
}

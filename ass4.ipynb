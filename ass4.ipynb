{
 "cells": [
  {
   "cell_type": "code",
   "execution_count": 13,
   "id": "2b794cb6-9b1b-4a64-b0c5-9ed62ee79b14",
   "metadata": {},
   "outputs": [
    {
     "name": "stdout",
     "output_type": "stream",
     "text": [
      "[4 5 3 8 9]\n",
      "[12 15  9 24 27]\n",
      "[ 6  7  4 12 13]\n"
     ]
    }
   ],
   "source": [
    "#question1\n",
    "import numpy as np\n",
    "a= np.array([2,3,1,6,7])\n",
    "for i in range(5):\n",
    "    a[i]+=2\n",
    "print(a)\n",
    "for i in range(5):\n",
    "    a[i]= a[i]*3\n",
    "print(a)\n",
    "for i in range(5):\n",
    "    a[i]= a[i]/2\n",
    "print(a)\n",
    "\n"
   ]
  },
  {
   "cell_type": "code",
   "execution_count": 23,
   "id": "840e7077-0f4a-4983-a921-fae372e4605b",
   "metadata": {},
   "outputs": [
    {
     "name": "stdout",
     "output_type": "stream",
     "text": [
      "[5 4 6 3 2 1]\n",
      "most frequent value: 1\n",
      "indexes:  [0 5 7 8 9]\n",
      "most frequent value: 1\n",
      "indexes:  [0 1 2]\n"
     ]
    }
   ],
   "source": [
    "#question2\n",
    "arr= np.array([1, 2, 3, 6, 4, 5])\n",
    "arr= arr[::-1]\n",
    "print(arr)\n",
    "x = np.array([1,2,3,4,5,1,2,1,1,1])\n",
    "a= np.bincount(x)\n",
    "mode1= np.argmax(a)\n",
    "idx= np.where(x==mode1)[0]\n",
    "print('most frequent value:',mode1)\n",
    "print('indexes: ',idx)\n",
    "\n",
    "\n",
    "x = np.array([1, 1, 1, 2, 3, 4, 2, 4, 3, 3])\n",
    "a= np.bincount(x)\n",
    "mode1= np.argmax(a)\n",
    "idx= np.where(x==mode1)[0]\n",
    "print('most frequent value:',mode1)\n",
    "print('indexes: ',idx)\n",
    "\n"
   ]
  },
  {
   "cell_type": "code",
   "execution_count": 29,
   "id": "3dd95ee6-fe69-47f6-a0b7-7b815ed6a5fd",
   "metadata": {},
   "outputs": [
    {
     "name": "stdout",
     "output_type": "stream",
     "text": [
      "20\n",
      "70\n"
     ]
    }
   ],
   "source": [
    "#question3\n",
    "arr=np.array([[10, 20, 30], [40, 50, 60], [70, 80, 90]])\n",
    "print(arr[0,1])\n",
    "print(arr[2,0])"
   ]
  },
  {
   "cell_type": "code",
   "execution_count": 33,
   "id": "e35c9d09-9ed2-47e4-8914-acf1da4501d6",
   "metadata": {},
   "outputs": [
    {
     "name": "stdout",
     "output_type": "stream",
     "text": [
      "Original array is:  [ 10.    13.75  17.5   21.25  25.    28.75  32.5   36.25  40.    43.75\n",
      "  47.5   51.25  55.    58.75  62.5   66.25  70.    73.75  77.5   81.25\n",
      "  85.    88.75  92.5   96.25 100.  ] \n",
      "\n",
      "Dimension of array is:  1 \n",
      "\n",
      "Shape of array is:  (25,) \n",
      "\n",
      "Size of array is:  25 \n",
      "\n",
      "Data type of data stored in array is:  float64 \n",
      "\n",
      "No of bytes required to store data in array is:  200 \n",
      "\n",
      "Array transpose is: \n",
      " [[ 10.  ]\n",
      " [ 13.75]\n",
      " [ 17.5 ]\n",
      " [ 21.25]\n",
      " [ 25.  ]\n",
      " [ 28.75]\n",
      " [ 32.5 ]\n",
      " [ 36.25]\n",
      " [ 40.  ]\n",
      " [ 43.75]\n",
      " [ 47.5 ]\n",
      " [ 51.25]\n",
      " [ 55.  ]\n",
      " [ 58.75]\n",
      " [ 62.5 ]\n",
      " [ 66.25]\n",
      " [ 70.  ]\n",
      " [ 73.75]\n",
      " [ 77.5 ]\n",
      " [ 81.25]\n",
      " [ 85.  ]\n",
      " [ 88.75]\n",
      " [ 92.5 ]\n",
      " [ 96.25]\n",
      " [100.  ]] \n",
      "\n",
      "[ 10.    13.75  17.5   21.25  25.    28.75  32.5   36.25  40.    43.75\n",
      "  47.5   51.25  55.    58.75  62.5   66.25  70.    73.75  77.5   81.25\n",
      "  85.    88.75  92.5   96.25 100.  ]\n"
     ]
    }
   ],
   "source": [
    "#question4\n",
    "import numpy as np;\n",
    "arr = np.array(np.linspace(10,100,25))\n",
    "print(\"Original array is: \",arr,\"\\n\")\n",
    "print(\"Dimension of array is: \",arr.ndim,\"\\n\")\n",
    "print(\"Shape of array is: \",arr.shape,\"\\n\")\n",
    "print(\"Size of array is: \",arr.size,\"\\n\")\n",
    "print(\"Data type of data stored in array is: \",arr.dtype,\"\\n\")\n",
    "print(\"No of bytes required to store data in array is: \",arr.nbytes,\"\\n\")\n",
    "transpose = arr.reshape(-1,1)\n",
    "print(\"Array transpose is: \\n\",transpose,\"\\n\")\n",
    "#print(arr.T)"
   ]
  },
  {
   "cell_type": "code",
   "execution_count": 35,
   "id": "7888752d-04d0-487c-9c10-024125fc12da",
   "metadata": {},
   "outputs": [
    {
     "name": "stdout",
     "output_type": "stream",
     "text": [
      "Original 2-D array is: \n",
      " [[10 20 30 40]\n",
      " [50 60 70 80]\n",
      " [90 15 20 35]] \n",
      "\n",
      "Mean of 2-D array is:  43.333333333333336 \n",
      "\n",
      "Median of 2-D array is:  37.5 \n",
      "\n",
      "Maximum element of 2-D array is:  90 \n",
      "\n",
      "Minimum element of 2-D array is:  10 \n",
      "\n",
      "All unique element of 2-D array is:  [10 15 20 30 35 40 50 60 70 80 90] \n",
      "\n",
      "2-D array after reshaping to 4 rows and 3 columns is: \n",
      " [[10 20 30]\n",
      " [40 50 60]\n",
      " [70 80 90]\n",
      " [15 20 35]] \n",
      "\n",
      "2-D array after resizing to 2 rows and 3 columns is: \n",
      " [[10 20 30]\n",
      " [40 50 60]]\n"
     ]
    }
   ],
   "source": [
    "#question5\n",
    "import numpy as np\n",
    "ucs420 = np.array([[10,20,30,40],[50,60,70,80],[90,15,20,35]])\n",
    "print(\"Original 2-D array is: \\n\",ucs420,\"\\n\")\n",
    "print(\"Mean of 2-D array is: \",np.mean(ucs420),\"\\n\")\n",
    "print(\"Median of 2-D array is: \",np.median(ucs420),\"\\n\")\n",
    "print(\"Maximum element of 2-D array is: \",np.max(ucs420),\"\\n\")\n",
    "print(\"Minimum element of 2-D array is: \",np.min(ucs420),\"\\n\")\n",
    "print(\"All unique element of 2-D array is: \",np.unique(ucs420),\"\\n\")\n",
    "reshaped_ucs420 = ucs420.reshape(4,3)\n",
    "print(\"2-D array after reshaping to 4 rows and 3 columns is: \\n\",reshaped_ucs420,\"\\n\")\n",
    "resized_ucs420 = np.resize(ucs420,(2,3))\n",
    "print(\"2-D array after resizing to 2 rows and 3 columns is: \\n\",resized_ucs420)"
   ]
  },
  {
   "cell_type": "code",
   "execution_count": null,
   "id": "8a1101a9-cb94-4077-9ecd-7ae8b01c6272",
   "metadata": {},
   "outputs": [],
   "source": []
  }
 ],
 "metadata": {
  "kernelspec": {
   "display_name": "Python [conda env:base] *",
   "language": "python",
   "name": "conda-base-py"
  },
  "language_info": {
   "codemirror_mode": {
    "name": "ipython",
    "version": 3
   },
   "file_extension": ".py",
   "mimetype": "text/x-python",
   "name": "python",
   "nbconvert_exporter": "python",
   "pygments_lexer": "ipython3",
   "version": "3.12.7"
  }
 },
 "nbformat": 4,
 "nbformat_minor": 5
}
